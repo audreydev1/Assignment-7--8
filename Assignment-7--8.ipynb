{
 "cells": [
  {
   "cell_type": "markdown",
   "id": "4225dcff",
   "metadata": {},
   "source": [
    "# 1.0 Importing Python Libraries"
   ]
  },
  {
   "cell_type": "code",
   "execution_count": 1,
   "id": "31d12065",
   "metadata": {},
   "outputs": [],
   "source": [
    "import pandas as pd\n",
    "import numpy as np\n",
    "import matplotlib.pyplot as plt\n",
    "import seaborn as sns\n",
    "from sklearn.preprocessing import MinMaxScaler\n",
    "from sklearn.model_selection import train_test_split\n",
    "from sklearn.feature_selection import SelectKBest, f_classif\n",
    "import warnings\n",
    "warnings.filterwarnings(\"ignore\")\n"
   ]
  },
  {
   "cell_type": "markdown",
   "id": "2a9488a3",
   "metadata": {},
   "source": [
    "# 1.1 Importing the dataset"
   ]
  },
  {
   "cell_type": "code",
   "execution_count": 2,
   "id": "1c3495e6",
   "metadata": {},
   "outputs": [
    {
     "data": {
      "text/html": [
       "<div>\n",
       "<style scoped>\n",
       "    .dataframe tbody tr th:only-of-type {\n",
       "        vertical-align: middle;\n",
       "    }\n",
       "\n",
       "    .dataframe tbody tr th {\n",
       "        vertical-align: top;\n",
       "    }\n",
       "\n",
       "    .dataframe thead th {\n",
       "        text-align: right;\n",
       "    }\n",
       "</style>\n",
       "<table border=\"1\" class=\"dataframe\">\n",
       "  <thead>\n",
       "    <tr style=\"text-align: right;\">\n",
       "      <th></th>\n",
       "      <th>age</th>\n",
       "      <th>sex</th>\n",
       "      <th>bmi</th>\n",
       "      <th>children</th>\n",
       "      <th>smoker</th>\n",
       "      <th>region</th>\n",
       "      <th>charges</th>\n",
       "    </tr>\n",
       "  </thead>\n",
       "  <tbody>\n",
       "    <tr>\n",
       "      <th>0</th>\n",
       "      <td>19</td>\n",
       "      <td>female</td>\n",
       "      <td>27.900</td>\n",
       "      <td>0</td>\n",
       "      <td>yes</td>\n",
       "      <td>southwest</td>\n",
       "      <td>16884.92400</td>\n",
       "    </tr>\n",
       "    <tr>\n",
       "      <th>1</th>\n",
       "      <td>18</td>\n",
       "      <td>male</td>\n",
       "      <td>33.770</td>\n",
       "      <td>1</td>\n",
       "      <td>no</td>\n",
       "      <td>southeast</td>\n",
       "      <td>1725.55230</td>\n",
       "    </tr>\n",
       "    <tr>\n",
       "      <th>2</th>\n",
       "      <td>28</td>\n",
       "      <td>male</td>\n",
       "      <td>33.000</td>\n",
       "      <td>3</td>\n",
       "      <td>no</td>\n",
       "      <td>southeast</td>\n",
       "      <td>4449.46200</td>\n",
       "    </tr>\n",
       "    <tr>\n",
       "      <th>3</th>\n",
       "      <td>33</td>\n",
       "      <td>male</td>\n",
       "      <td>22.705</td>\n",
       "      <td>0</td>\n",
       "      <td>no</td>\n",
       "      <td>northwest</td>\n",
       "      <td>21984.47061</td>\n",
       "    </tr>\n",
       "    <tr>\n",
       "      <th>4</th>\n",
       "      <td>32</td>\n",
       "      <td>male</td>\n",
       "      <td>28.880</td>\n",
       "      <td>0</td>\n",
       "      <td>no</td>\n",
       "      <td>northwest</td>\n",
       "      <td>3866.85520</td>\n",
       "    </tr>\n",
       "    <tr>\n",
       "      <th>...</th>\n",
       "      <td>...</td>\n",
       "      <td>...</td>\n",
       "      <td>...</td>\n",
       "      <td>...</td>\n",
       "      <td>...</td>\n",
       "      <td>...</td>\n",
       "      <td>...</td>\n",
       "    </tr>\n",
       "    <tr>\n",
       "      <th>1333</th>\n",
       "      <td>50</td>\n",
       "      <td>male</td>\n",
       "      <td>30.970</td>\n",
       "      <td>3</td>\n",
       "      <td>no</td>\n",
       "      <td>northwest</td>\n",
       "      <td>10600.54830</td>\n",
       "    </tr>\n",
       "    <tr>\n",
       "      <th>1334</th>\n",
       "      <td>18</td>\n",
       "      <td>female</td>\n",
       "      <td>31.920</td>\n",
       "      <td>0</td>\n",
       "      <td>no</td>\n",
       "      <td>northeast</td>\n",
       "      <td>2205.98080</td>\n",
       "    </tr>\n",
       "    <tr>\n",
       "      <th>1335</th>\n",
       "      <td>18</td>\n",
       "      <td>female</td>\n",
       "      <td>36.850</td>\n",
       "      <td>0</td>\n",
       "      <td>no</td>\n",
       "      <td>southeast</td>\n",
       "      <td>1629.83350</td>\n",
       "    </tr>\n",
       "    <tr>\n",
       "      <th>1336</th>\n",
       "      <td>21</td>\n",
       "      <td>female</td>\n",
       "      <td>25.800</td>\n",
       "      <td>0</td>\n",
       "      <td>no</td>\n",
       "      <td>southwest</td>\n",
       "      <td>2007.94500</td>\n",
       "    </tr>\n",
       "    <tr>\n",
       "      <th>1337</th>\n",
       "      <td>61</td>\n",
       "      <td>female</td>\n",
       "      <td>29.070</td>\n",
       "      <td>0</td>\n",
       "      <td>yes</td>\n",
       "      <td>northwest</td>\n",
       "      <td>29141.36030</td>\n",
       "    </tr>\n",
       "  </tbody>\n",
       "</table>\n",
       "<p>1338 rows × 7 columns</p>\n",
       "</div>"
      ],
      "text/plain": [
       "      age     sex     bmi  children smoker     region      charges\n",
       "0      19  female  27.900         0    yes  southwest  16884.92400\n",
       "1      18    male  33.770         1     no  southeast   1725.55230\n",
       "2      28    male  33.000         3     no  southeast   4449.46200\n",
       "3      33    male  22.705         0     no  northwest  21984.47061\n",
       "4      32    male  28.880         0     no  northwest   3866.85520\n",
       "...   ...     ...     ...       ...    ...        ...          ...\n",
       "1333   50    male  30.970         3     no  northwest  10600.54830\n",
       "1334   18  female  31.920         0     no  northeast   2205.98080\n",
       "1335   18  female  36.850         0     no  southeast   1629.83350\n",
       "1336   21  female  25.800         0     no  southwest   2007.94500\n",
       "1337   61  female  29.070         0    yes  northwest  29141.36030\n",
       "\n",
       "[1338 rows x 7 columns]"
      ]
     },
     "execution_count": 2,
     "metadata": {},
     "output_type": "execute_result"
    }
   ],
   "source": [
    "#creating a dataframe and naming it insurance\n",
    "insurance=pd.read_csv('insurance.csv')\n",
    "insurance"
   ]
  },
  {
   "cell_type": "markdown",
   "id": "e48869e2",
   "metadata": {},
   "source": [
    "# 1.2 EDA"
   ]
  },
  {
   "cell_type": "code",
   "execution_count": 3,
   "id": "5d2dfed8",
   "metadata": {},
   "outputs": [
    {
     "data": {
      "text/plain": [
       "(1338, 7)"
      ]
     },
     "execution_count": 3,
     "metadata": {},
     "output_type": "execute_result"
    }
   ],
   "source": [
    "insurance.shape"
   ]
  },
  {
   "cell_type": "code",
   "execution_count": 4,
   "id": "4a59485b",
   "metadata": {},
   "outputs": [
    {
     "name": "stdout",
     "output_type": "stream",
     "text": [
      "<class 'pandas.core.frame.DataFrame'>\n",
      "RangeIndex: 1338 entries, 0 to 1337\n",
      "Data columns (total 7 columns):\n",
      " #   Column    Non-Null Count  Dtype  \n",
      "---  ------    --------------  -----  \n",
      " 0   age       1338 non-null   int64  \n",
      " 1   sex       1338 non-null   object \n",
      " 2   bmi       1338 non-null   float64\n",
      " 3   children  1338 non-null   int64  \n",
      " 4   smoker    1338 non-null   object \n",
      " 5   region    1338 non-null   object \n",
      " 6   charges   1338 non-null   float64\n",
      "dtypes: float64(2), int64(2), object(3)\n",
      "memory usage: 73.3+ KB\n"
     ]
    }
   ],
   "source": [
    "insurance.info()"
   ]
  },
  {
   "cell_type": "code",
   "execution_count": 5,
   "id": "e228320e",
   "metadata": {},
   "outputs": [
    {
     "data": {
      "text/html": [
       "<div>\n",
       "<style scoped>\n",
       "    .dataframe tbody tr th:only-of-type {\n",
       "        vertical-align: middle;\n",
       "    }\n",
       "\n",
       "    .dataframe tbody tr th {\n",
       "        vertical-align: top;\n",
       "    }\n",
       "\n",
       "    .dataframe thead th {\n",
       "        text-align: right;\n",
       "    }\n",
       "</style>\n",
       "<table border=\"1\" class=\"dataframe\">\n",
       "  <thead>\n",
       "    <tr style=\"text-align: right;\">\n",
       "      <th></th>\n",
       "      <th>age</th>\n",
       "      <th>bmi</th>\n",
       "      <th>children</th>\n",
       "      <th>charges</th>\n",
       "    </tr>\n",
       "  </thead>\n",
       "  <tbody>\n",
       "    <tr>\n",
       "      <th>count</th>\n",
       "      <td>1338.000000</td>\n",
       "      <td>1338.000000</td>\n",
       "      <td>1338.000000</td>\n",
       "      <td>1338.000000</td>\n",
       "    </tr>\n",
       "    <tr>\n",
       "      <th>mean</th>\n",
       "      <td>39.207025</td>\n",
       "      <td>30.663397</td>\n",
       "      <td>1.094918</td>\n",
       "      <td>13270.422265</td>\n",
       "    </tr>\n",
       "    <tr>\n",
       "      <th>std</th>\n",
       "      <td>14.049960</td>\n",
       "      <td>6.098187</td>\n",
       "      <td>1.205493</td>\n",
       "      <td>12110.011237</td>\n",
       "    </tr>\n",
       "    <tr>\n",
       "      <th>min</th>\n",
       "      <td>18.000000</td>\n",
       "      <td>15.960000</td>\n",
       "      <td>0.000000</td>\n",
       "      <td>1121.873900</td>\n",
       "    </tr>\n",
       "    <tr>\n",
       "      <th>25%</th>\n",
       "      <td>27.000000</td>\n",
       "      <td>26.296250</td>\n",
       "      <td>0.000000</td>\n",
       "      <td>4740.287150</td>\n",
       "    </tr>\n",
       "    <tr>\n",
       "      <th>50%</th>\n",
       "      <td>39.000000</td>\n",
       "      <td>30.400000</td>\n",
       "      <td>1.000000</td>\n",
       "      <td>9382.033000</td>\n",
       "    </tr>\n",
       "    <tr>\n",
       "      <th>75%</th>\n",
       "      <td>51.000000</td>\n",
       "      <td>34.693750</td>\n",
       "      <td>2.000000</td>\n",
       "      <td>16639.912515</td>\n",
       "    </tr>\n",
       "    <tr>\n",
       "      <th>max</th>\n",
       "      <td>64.000000</td>\n",
       "      <td>53.130000</td>\n",
       "      <td>5.000000</td>\n",
       "      <td>63770.428010</td>\n",
       "    </tr>\n",
       "  </tbody>\n",
       "</table>\n",
       "</div>"
      ],
      "text/plain": [
       "               age          bmi     children       charges\n",
       "count  1338.000000  1338.000000  1338.000000   1338.000000\n",
       "mean     39.207025    30.663397     1.094918  13270.422265\n",
       "std      14.049960     6.098187     1.205493  12110.011237\n",
       "min      18.000000    15.960000     0.000000   1121.873900\n",
       "25%      27.000000    26.296250     0.000000   4740.287150\n",
       "50%      39.000000    30.400000     1.000000   9382.033000\n",
       "75%      51.000000    34.693750     2.000000  16639.912515\n",
       "max      64.000000    53.130000     5.000000  63770.428010"
      ]
     },
     "execution_count": 5,
     "metadata": {},
     "output_type": "execute_result"
    }
   ],
   "source": [
    "#summary statistics for numeric columns\n",
    "insurance.describe()"
   ]
  },
  {
   "cell_type": "markdown",
   "id": "02057d7c",
   "metadata": {},
   "source": [
    "### From our EDA we can observe that the target variable(charges) is numerical continuous,we'll therefore use a regression model to perform predictive analysis"
   ]
  },
  {
   "cell_type": "markdown",
   "id": "9ff09e77",
   "metadata": {},
   "source": [
    "# 1.4 Visualizing the distribution of the age column\n"
   ]
  },
  {
   "cell_type": "code",
   "execution_count": 6,
   "id": "2f35a2bc",
   "metadata": {},
   "outputs": [
    {
     "data": {
      "image/png": "[encoded data removed]",
      "text/plain": [
       "<Figure size 1152x720 with 1 Axes>"
      ]
     },
     "metadata": {
      "needs_background": "light"
     },
     "output_type": "display_data"
    }
   ],
   "source": [
    "#plotting a histogram for the age column\n",
    "plt.figure(figsize=(16,10))\n",
    "sns.set_context(\"paper\",font_scale=1.5)\n",
    "ax=sns.histplot(data=insurance,x='age',palette='bone',bins=20)\n",
    "for p in ax.patches:\n",
    "    height = p.get_height()\n",
    "    if np.isnan(height):\n",
    "        height=0\n",
    "    ax.text(p.get_x()+p.get_width()/2., height, '{:1.0f}'.format(height), ha=\"center\")\n",
    "    \n",
    "plt.ylabel(\"Frequency\")    \n",
    "plt.title(\"Histogram showing the Age Distribution\")\n",
    "plt.show()"
   ]
  },
  {
   "cell_type": "markdown",
   "id": "ec512c7f",
   "metadata": {},
   "source": [
    "### We can observe that the age bracket that has a majority of clients is between 18-20 years.\n"
   ]
  },
  {
   "cell_type": "markdown",
   "id": "a4673895",
   "metadata": {},
   "source": [
    "# 1.5 Isolating Numerical continuous and numerical discrete columns"
   ]
  },
  {
   "cell_type": "code",
   "execution_count": 7,
   "id": "e290dd43",
   "metadata": {},
   "outputs": [
    {
     "data": {
      "text/html": [
       "<div>\n",
       "<style scoped>\n",
       "    .dataframe tbody tr th:only-of-type {\n",
       "        vertical-align: middle;\n",
       "    }\n",
       "\n",
       "    .dataframe tbody tr th {\n",
       "        vertical-align: top;\n",
       "    }\n",
       "\n",
       "    .dataframe thead th {\n",
       "        text-align: right;\n",
       "    }\n",
       "</style>\n",
       "<table border=\"1\" class=\"dataframe\">\n",
       "  <thead>\n",
       "    <tr style=\"text-align: right;\">\n",
       "      <th></th>\n",
       "      <th>age</th>\n",
       "      <th>bmi</th>\n",
       "      <th>children</th>\n",
       "      <th>charges</th>\n",
       "    </tr>\n",
       "  </thead>\n",
       "  <tbody>\n",
       "    <tr>\n",
       "      <th>0</th>\n",
       "      <td>19</td>\n",
       "      <td>27.900</td>\n",
       "      <td>0</td>\n",
       "      <td>16884.92400</td>\n",
       "    </tr>\n",
       "    <tr>\n",
       "      <th>1</th>\n",
       "      <td>18</td>\n",
       "      <td>33.770</td>\n",
       "      <td>1</td>\n",
       "      <td>1725.55230</td>\n",
       "    </tr>\n",
       "    <tr>\n",
       "      <th>2</th>\n",
       "      <td>28</td>\n",
       "      <td>33.000</td>\n",
       "      <td>3</td>\n",
       "      <td>4449.46200</td>\n",
       "    </tr>\n",
       "    <tr>\n",
       "      <th>3</th>\n",
       "      <td>33</td>\n",
       "      <td>22.705</td>\n",
       "      <td>0</td>\n",
       "      <td>21984.47061</td>\n",
       "    </tr>\n",
       "    <tr>\n",
       "      <th>4</th>\n",
       "      <td>32</td>\n",
       "      <td>28.880</td>\n",
       "      <td>0</td>\n",
       "      <td>3866.85520</td>\n",
       "    </tr>\n",
       "    <tr>\n",
       "      <th>...</th>\n",
       "      <td>...</td>\n",
       "      <td>...</td>\n",
       "      <td>...</td>\n",
       "      <td>...</td>\n",
       "    </tr>\n",
       "    <tr>\n",
       "      <th>1333</th>\n",
       "      <td>50</td>\n",
       "      <td>30.970</td>\n",
       "      <td>3</td>\n",
       "      <td>10600.54830</td>\n",
       "    </tr>\n",
       "    <tr>\n",
       "      <th>1334</th>\n",
       "      <td>18</td>\n",
       "      <td>31.920</td>\n",
       "      <td>0</td>\n",
       "      <td>2205.98080</td>\n",
       "    </tr>\n",
       "    <tr>\n",
       "      <th>1335</th>\n",
       "      <td>18</td>\n",
       "      <td>36.850</td>\n",
       "      <td>0</td>\n",
       "      <td>1629.83350</td>\n",
       "    </tr>\n",
       "    <tr>\n",
       "      <th>1336</th>\n",
       "      <td>21</td>\n",
       "      <td>25.800</td>\n",
       "      <td>0</td>\n",
       "      <td>2007.94500</td>\n",
       "    </tr>\n",
       "    <tr>\n",
       "      <th>1337</th>\n",
       "      <td>61</td>\n",
       "      <td>29.070</td>\n",
       "      <td>0</td>\n",
       "      <td>29141.36030</td>\n",
       "    </tr>\n",
       "  </tbody>\n",
       "</table>\n",
       "<p>1338 rows × 4 columns</p>\n",
       "</div>"
      ],
      "text/plain": [
       "      age     bmi  children      charges\n",
       "0      19  27.900         0  16884.92400\n",
       "1      18  33.770         1   1725.55230\n",
       "2      28  33.000         3   4449.46200\n",
       "3      33  22.705         0  21984.47061\n",
       "4      32  28.880         0   3866.85520\n",
       "...   ...     ...       ...          ...\n",
       "1333   50  30.970         3  10600.54830\n",
       "1334   18  31.920         0   2205.98080\n",
       "1335   18  36.850         0   1629.83350\n",
       "1336   21  25.800         0   2007.94500\n",
       "1337   61  29.070         0  29141.36030\n",
       "\n",
       "[1338 rows x 4 columns]"
      ]
     },
     "execution_count": 7,
     "metadata": {},
     "output_type": "execute_result"
    }
   ],
   "source": [
    "#slicing numeric columns only\n",
    "numeric_cols=insurance.select_dtypes('number')\n",
    "numeric_cols"
   ]
  },
  {
   "cell_type": "code",
   "execution_count": 8,
   "id": "55ce81a6",
   "metadata": {},
   "outputs": [
    {
     "data": {
      "text/html": [
       "<div>\n",
       "<style scoped>\n",
       "    .dataframe tbody tr th:only-of-type {\n",
       "        vertical-align: middle;\n",
       "    }\n",
       "\n",
       "    .dataframe tbody tr th {\n",
       "        vertical-align: top;\n",
       "    }\n",
       "\n",
       "    .dataframe thead th {\n",
       "        text-align: right;\n",
       "    }\n",
       "</style>\n",
       "<table border=\"1\" class=\"dataframe\">\n",
       "  <thead>\n",
       "    <tr style=\"text-align: right;\">\n",
       "      <th></th>\n",
       "      <th>age</th>\n",
       "      <th>bmi</th>\n",
       "      <th>children</th>\n",
       "    </tr>\n",
       "  </thead>\n",
       "  <tbody>\n",
       "    <tr>\n",
       "      <th>0</th>\n",
       "      <td>19</td>\n",
       "      <td>27.900</td>\n",
       "      <td>0</td>\n",
       "    </tr>\n",
       "    <tr>\n",
       "      <th>1</th>\n",
       "      <td>18</td>\n",
       "      <td>33.770</td>\n",
       "      <td>1</td>\n",
       "    </tr>\n",
       "    <tr>\n",
       "      <th>2</th>\n",
       "      <td>28</td>\n",
       "      <td>33.000</td>\n",
       "      <td>3</td>\n",
       "    </tr>\n",
       "    <tr>\n",
       "      <th>3</th>\n",
       "      <td>33</td>\n",
       "      <td>22.705</td>\n",
       "      <td>0</td>\n",
       "    </tr>\n",
       "    <tr>\n",
       "      <th>4</th>\n",
       "      <td>32</td>\n",
       "      <td>28.880</td>\n",
       "      <td>0</td>\n",
       "    </tr>\n",
       "    <tr>\n",
       "      <th>...</th>\n",
       "      <td>...</td>\n",
       "      <td>...</td>\n",
       "      <td>...</td>\n",
       "    </tr>\n",
       "    <tr>\n",
       "      <th>1333</th>\n",
       "      <td>50</td>\n",
       "      <td>30.970</td>\n",
       "      <td>3</td>\n",
       "    </tr>\n",
       "    <tr>\n",
       "      <th>1334</th>\n",
       "      <td>18</td>\n",
       "      <td>31.920</td>\n",
       "      <td>0</td>\n",
       "    </tr>\n",
       "    <tr>\n",
       "      <th>1335</th>\n",
       "      <td>18</td>\n",
       "      <td>36.850</td>\n",
       "      <td>0</td>\n",
       "    </tr>\n",
       "    <tr>\n",
       "      <th>1336</th>\n",
       "      <td>21</td>\n",
       "      <td>25.800</td>\n",
       "      <td>0</td>\n",
       "    </tr>\n",
       "    <tr>\n",
       "      <th>1337</th>\n",
       "      <td>61</td>\n",
       "      <td>29.070</td>\n",
       "      <td>0</td>\n",
       "    </tr>\n",
       "  </tbody>\n",
       "</table>\n",
       "<p>1338 rows × 3 columns</p>\n",
       "</div>"
      ],
      "text/plain": [
       "      age     bmi  children\n",
       "0      19  27.900         0\n",
       "1      18  33.770         1\n",
       "2      28  33.000         3\n",
       "3      33  22.705         0\n",
       "4      32  28.880         0\n",
       "...   ...     ...       ...\n",
       "1333   50  30.970         3\n",
       "1334   18  31.920         0\n",
       "1335   18  36.850         0\n",
       "1336   21  25.800         0\n",
       "1337   61  29.070         0\n",
       "\n",
       "[1338 rows x 3 columns]"
      ]
     },
     "execution_count": 8,
     "metadata": {},
     "output_type": "execute_result"
    }
   ],
   "source": [
    "# droping the target column charges\n",
    "numeric_cols.drop('charges',axis=1)"
   ]
  },
  {
   "cell_type": "code",
   "execution_count": 11,
   "id": "d386a45c",
   "metadata": {},
   "outputs": [],
   "source": [
    "#we have four numeric columns we'll therefore use nunique to identify if it is continuous or discrete\n",
    "numerical_continuous=[]\n",
    "numerical_discrete=[]\n",
    "for i in numeric_cols.columns:\n",
    "    if numeric_cols[i].nunique() >=10:\n",
    "        numerical_continuous.append(i)\n",
    "        continue\n",
    "    elif numeric_cols[i].nunique()<10:\n",
    "        numerical_discrete.append(i)\n",
    "numerical_continuous.remove('charges')         \n",
    "        "
   ]
  },
  {
   "cell_type": "code",
   "execution_count": 12,
   "id": "97da35fd",
   "metadata": {},
   "outputs": [
    {
     "data": {
      "text/plain": [
       "['age', 'bmi']"
      ]
     },
     "execution_count": 12,
     "metadata": {},
     "output_type": "execute_result"
    }
   ],
   "source": [
    "numerical_continuous"
   ]
  },
  {
   "cell_type": "code",
   "execution_count": 13,
   "id": "33470a0e",
   "metadata": {},
   "outputs": [
    {
     "data": {
      "text/plain": [
       "['children']"
      ]
     },
     "execution_count": 13,
     "metadata": {},
     "output_type": "execute_result"
    }
   ],
   "source": [
    "numerical_discrete"
   ]
  },
  {
   "cell_type": "markdown",
   "id": "00cf788c",
   "metadata": {},
   "source": [
    "# 1.6 Identifying outliers in numeric continuous columns and resolving them using z score"
   ]
  },
  {
   "cell_type": "code",
   "execution_count": 14,
   "id": "73fdf4ec",
   "metadata": {},
   "outputs": [
    {
     "data": {
      "image/png": "[encoded data removed]",
      "text/plain": [
       "<Figure size 720x720 with 1 Axes>"
      ]
     },
     "metadata": {
      "needs_background": "light"
     },
     "output_type": "display_data"
    }
   ],
   "source": [
    "#we'll use a box plot to identify outliers in the columns\n",
    "plt.figure(figsize=(10,10))\n",
    "sns.set_context(\"paper\",font_scale=1.5)\n",
    "sns.boxplot(data=insurance[numerical_continuous])\n",
    "plt.show()"
   ]
  },
  {
   "cell_type": "code",
   "execution_count": 15,
   "id": "1e259b10",
   "metadata": {},
   "outputs": [
    {
     "data": {
      "text/plain": [
       "0       0.453320\n",
       "1       0.509621\n",
       "2       0.383307\n",
       "3       1.305531\n",
       "4       0.292556\n",
       "          ...   \n",
       "1333    0.050297\n",
       "1334    0.206139\n",
       "1335    1.014878\n",
       "1336    0.797813\n",
       "1337    0.261388\n",
       "Name: bmi, Length: 1338, dtype: float64"
      ]
     },
     "execution_count": 15,
     "metadata": {},
     "output_type": "execute_result"
    }
   ],
   "source": [
    "# From the summary statistics of the bmi,the mean is 30 and the std is 6\n",
    "# Given that the outliers are above 47,\n",
    "# The zscore threshold chosen is 2 standard deviations above the mean\n",
    "from scipy import stats\n",
    "zscore = np.abs(stats.zscore(insurance['bmi']))\n",
    "zscore"
   ]
  },
  {
   "cell_type": "code",
   "execution_count": 16,
   "id": "2e2ef808",
   "metadata": {},
   "outputs": [
    {
     "name": "stdout",
     "output_type": "stream",
     "text": [
      "(array([  28,  116,  128,  172,  198,  232,  250,  286,  292,  356,  380,\n",
      "        383,  401,  410,  412,  428,  438,  442,  454,  493,  521,  543,\n",
      "        547,  549,  563,  572,  582,  660,  674,  680,  701,  796,  811,\n",
      "        821,  847,  860,  867,  895,  930,  941,  950,  951, 1024, 1029,\n",
      "       1047, 1074, 1085, 1088, 1131, 1133, 1156, 1205, 1226, 1286, 1312,\n",
      "       1317, 1332]),)\n"
     ]
    }
   ],
   "source": [
    "#using the threshold of 2 to identify the location of the outliers\n",
    "threshold = 2\n",
    "print(np.where(zscore>2))"
   ]
  },
  {
   "cell_type": "code",
   "execution_count": 17,
   "id": "04c95ce5",
   "metadata": {},
   "outputs": [],
   "source": [
    "#removing the outliers\n",
    "insurance_no_outliers = insurance\n",
    "insurance_no_outliers = insurance_no_outliers[(zscore<2)]"
   ]
  },
  {
   "cell_type": "code",
   "execution_count": 18,
   "id": "3d9edb70",
   "metadata": {},
   "outputs": [
    {
     "data": {
      "text/plain": [
       "(1281, 7)"
      ]
     },
     "execution_count": 18,
     "metadata": {},
     "output_type": "execute_result"
    }
   ],
   "source": [
    "insurance_no_outliers.shape"
   ]
  },
  {
   "cell_type": "code",
   "execution_count": 19,
   "id": "9f7d2264",
   "metadata": {},
   "outputs": [
    {
     "data": {
      "image/png": "[encoded data removed]",
      "text/plain": [
       "<Figure size 720x720 with 1 Axes>"
      ]
     },
     "metadata": {
      "needs_background": "light"
     },
     "output_type": "display_data"
    }
   ],
   "source": [
    "#plotting the data again to check if the outliers have been removed \n",
    "plt.figure(figsize=(10,10))\n",
    "sns.set_context(\"paper\",font_scale=1.5)\n",
    "sns.boxplot(data=insurance_no_outliers[numerical_continuous])\n",
    "plt.show()"
   ]
  },
  {
   "cell_type": "markdown",
   "id": "c93ab5fd",
   "metadata": {},
   "source": [
    "# 1.7 Isolating Categorical Columns"
   ]
  },
  {
   "cell_type": "code",
   "execution_count": 20,
   "id": "ae36934e",
   "metadata": {},
   "outputs": [
    {
     "data": {
      "text/plain": [
       "['sex', 'smoker', 'region']"
      ]
     },
     "execution_count": 20,
     "metadata": {},
     "output_type": "execute_result"
    }
   ],
   "source": [
    "categorical=[]\n",
    "for i in insurance.columns:\n",
    "     if insurance[i].dtypes == 'object':\n",
    "        categorical.append(i)\n",
    "categorical"
   ]
  },
  {
   "cell_type": "markdown",
   "id": "b1563c5a",
   "metadata": {},
   "source": [
    "# 1.8 Visually Identifying outliers in discrete and categorical columns and resolving them using rare levels method¶"
   ]
  },
  {
   "cell_type": "code",
   "execution_count": 21,
   "id": "4b998fc7",
   "metadata": {},
   "outputs": [
    {
     "data": {
      "image/png": "[encoded data removed]",
      "text/plain": [
       "<Figure size 432x288 with 1 Axes>"
      ]
     },
     "metadata": {
      "needs_background": "light"
     },
     "output_type": "display_data"
    },
    {
     "name": "stdout",
     "output_type": "stream",
     "text": [
      "0    0.433255\n",
      "1    0.241998\n",
      "2    0.173302\n",
      "3    0.119438\n",
      "4    0.019516\n",
      "5    0.012490\n",
      "Name: children, dtype: float64\n"
     ]
    }
   ],
   "source": [
    "#Outliers in discrete variables\n",
    "for i in numerical_discrete:\n",
    "    (insurance_no_outliers.groupby(i)[i].count() / np.float(len(insurance_no_outliers))).plot.bar()\n",
    "    plt.title(i)\n",
    "    plt.show()\n",
    "    print(insurance_no_outliers[i].value_counts() / np.float(len(insurance_no_outliers)))"
   ]
  },
  {
   "cell_type": "code",
   "execution_count": 22,
   "id": "427b85a0",
   "metadata": {},
   "outputs": [
    {
     "data": {
      "image/png": "[encoded data removed]",
      "text/plain": [
       "<Figure size 432x288 with 1 Axes>"
      ]
     },
     "metadata": {
      "needs_background": "light"
     },
     "output_type": "display_data"
    },
    {
     "name": "stdout",
     "output_type": "stream",
     "text": [
      "male      0.505074\n",
      "female    0.494926\n",
      "Name: sex, dtype: float64\n"
     ]
    },
    {
     "data": {
      "image/png": "[encoded data removed]",
      "text/plain": [
       "<Figure size 432x288 with 1 Axes>"
      ]
     },
     "metadata": {
      "needs_background": "light"
     },
     "output_type": "display_data"
    },
    {
     "name": "stdout",
     "output_type": "stream",
     "text": [
      "no     0.796253\n",
      "yes    0.203747\n",
      "Name: smoker, dtype: float64\n"
     ]
    },
    {
     "data": {
      "image/png": "[encoded data removed]",
      "text/plain": [
       "<Figure size 432x288 with 1 Axes>"
      ]
     },
     "metadata": {
      "needs_background": "light"
     },
     "output_type": "display_data"
    },
    {
     "name": "stdout",
     "output_type": "stream",
     "text": [
      "southeast    0.263856\n",
      "northwest    0.247463\n",
      "southwest    0.245121\n",
      "northeast    0.243560\n",
      "Name: region, dtype: float64\n"
     ]
    }
   ],
   "source": [
    "#outliers in categorical variables\n",
    "for i in categorical:\n",
    "    (insurance_no_outliers.groupby(i)[i].count() / np.float(len(insurance_no_outliers))).plot.bar()\n",
    "    plt.title(i)\n",
    "    plt.show()\n",
    "    print(insurance_no_outliers[i].value_counts() / np.float(len(insurance_no_outliers)))"
   ]
  },
  {
   "cell_type": "code",
   "execution_count": 23,
   "id": "542db143",
   "metadata": {},
   "outputs": [],
   "source": [
    "#In the categorical data we do not have values that are present in less than 2% of the data\n",
    "#In the children's column we have we have two values that present in less than 2% of our data \n",
    "#we'll use the rare levels method to remove them\n",
    "insurance_no_outliers['children'] = insurance_no_outliers['children'].replace([4, 5], 'Rare')\n"
   ]
  },
  {
   "cell_type": "code",
   "execution_count": 24,
   "id": "6d8b1c11",
   "metadata": {},
   "outputs": [
    {
     "data": {
      "image/png": "[encoded data removed]",
      "text/plain": [
       "<Figure size 432x288 with 1 Axes>"
      ]
     },
     "metadata": {
      "needs_background": "light"
     },
     "output_type": "display_data"
    },
    {
     "name": "stdout",
     "output_type": "stream",
     "text": [
      "0       0.433255\n",
      "1       0.241998\n",
      "2       0.173302\n",
      "3       0.119438\n",
      "Rare    0.032006\n",
      "Name: children, dtype: float64\n"
     ]
    }
   ],
   "source": [
    "#plotting the data again to check if the values were replaced by rare\n",
    "for i in numerical_discrete:\n",
    "    (insurance_no_outliers.groupby(i)[i].count() / np.float(len(insurance_no_outliers))).plot.bar()\n",
    "    plt.title(i)\n",
    "    plt.show()\n",
    "    print(insurance_no_outliers[i].value_counts() / np.float(len(insurance_no_outliers)))"
   ]
  },
  {
   "cell_type": "markdown",
   "id": "999f21a2",
   "metadata": {},
   "source": [
    "# 1.9 Encoding discrete and Categorical features using measures of central tendency"
   ]
  },
  {
   "cell_type": "code",
   "execution_count": 25,
   "id": "6cf08918",
   "metadata": {},
   "outputs": [],
   "source": [
    "#we'll use target encoding to encode our variables using the mean\n",
    "def encoding_variables(col, target):\n",
    "        ordered_labels = insurance_no_outliers.groupby([col])[target].mean().to_dict()\n",
    "        insurance_no_outliers[col] = insurance_no_outliers[col].map(ordered_labels)\n"
   ]
  },
  {
   "cell_type": "code",
   "execution_count": 26,
   "id": "27b46f99",
   "metadata": {},
   "outputs": [],
   "source": [
    "for col in categorical:\n",
    "    encoding_variables(col, 'charges')\n"
   ]
  },
  {
   "cell_type": "code",
   "execution_count": 27,
   "id": "c725d2a8",
   "metadata": {},
   "outputs": [],
   "source": [
    "for col in numerical_discrete:\n",
    "    encoding_variables(col, 'charges')"
   ]
  },
  {
   "cell_type": "code",
   "execution_count": 28,
   "id": "590b97fb",
   "metadata": {},
   "outputs": [
    {
     "data": {
      "text/html": [
       "<div>\n",
       "<style scoped>\n",
       "    .dataframe tbody tr th:only-of-type {\n",
       "        vertical-align: middle;\n",
       "    }\n",
       "\n",
       "    .dataframe tbody tr th {\n",
       "        vertical-align: top;\n",
       "    }\n",
       "\n",
       "    .dataframe thead th {\n",
       "        text-align: right;\n",
       "    }\n",
       "</style>\n",
       "<table border=\"1\" class=\"dataframe\">\n",
       "  <thead>\n",
       "    <tr style=\"text-align: right;\">\n",
       "      <th></th>\n",
       "      <th>age</th>\n",
       "      <th>sex</th>\n",
       "      <th>bmi</th>\n",
       "      <th>children</th>\n",
       "      <th>smoker</th>\n",
       "      <th>region</th>\n",
       "      <th>charges</th>\n",
       "    </tr>\n",
       "  </thead>\n",
       "  <tbody>\n",
       "    <tr>\n",
       "      <th>0</th>\n",
       "      <td>19</td>\n",
       "      <td>12429.505375</td>\n",
       "      <td>27.900</td>\n",
       "      <td>12324.348977</td>\n",
       "      <td>31846.616835</td>\n",
       "      <td>12340.480789</td>\n",
       "      <td>16884.92400</td>\n",
       "    </tr>\n",
       "    <tr>\n",
       "      <th>1</th>\n",
       "      <td>18</td>\n",
       "      <td>14075.813874</td>\n",
       "      <td>33.770</td>\n",
       "      <td>12904.081811</td>\n",
       "      <td>8505.285285</td>\n",
       "      <td>14532.869080</td>\n",
       "      <td>1725.55230</td>\n",
       "    </tr>\n",
       "    <tr>\n",
       "      <th>2</th>\n",
       "      <td>28</td>\n",
       "      <td>14075.813874</td>\n",
       "      <td>33.000</td>\n",
       "      <td>15540.082132</td>\n",
       "      <td>8505.285285</td>\n",
       "      <td>14532.869080</td>\n",
       "      <td>4449.46200</td>\n",
       "    </tr>\n",
       "    <tr>\n",
       "      <th>3</th>\n",
       "      <td>33</td>\n",
       "      <td>14075.813874</td>\n",
       "      <td>22.705</td>\n",
       "      <td>12324.348977</td>\n",
       "      <td>8505.285285</td>\n",
       "      <td>12507.216229</td>\n",
       "      <td>21984.47061</td>\n",
       "    </tr>\n",
       "    <tr>\n",
       "      <th>4</th>\n",
       "      <td>32</td>\n",
       "      <td>14075.813874</td>\n",
       "      <td>28.880</td>\n",
       "      <td>12324.348977</td>\n",
       "      <td>8505.285285</td>\n",
       "      <td>12507.216229</td>\n",
       "      <td>3866.85520</td>\n",
       "    </tr>\n",
       "    <tr>\n",
       "      <th>...</th>\n",
       "      <td>...</td>\n",
       "      <td>...</td>\n",
       "      <td>...</td>\n",
       "      <td>...</td>\n",
       "      <td>...</td>\n",
       "      <td>...</td>\n",
       "      <td>...</td>\n",
       "    </tr>\n",
       "    <tr>\n",
       "      <th>1333</th>\n",
       "      <td>50</td>\n",
       "      <td>14075.813874</td>\n",
       "      <td>30.970</td>\n",
       "      <td>15540.082132</td>\n",
       "      <td>8505.285285</td>\n",
       "      <td>12507.216229</td>\n",
       "      <td>10600.54830</td>\n",
       "    </tr>\n",
       "    <tr>\n",
       "      <th>1334</th>\n",
       "      <td>18</td>\n",
       "      <td>12429.505375</td>\n",
       "      <td>31.920</td>\n",
       "      <td>12324.348977</td>\n",
       "      <td>8505.285285</td>\n",
       "      <td>13575.479882</td>\n",
       "      <td>2205.98080</td>\n",
       "    </tr>\n",
       "    <tr>\n",
       "      <th>1335</th>\n",
       "      <td>18</td>\n",
       "      <td>12429.505375</td>\n",
       "      <td>36.850</td>\n",
       "      <td>12324.348977</td>\n",
       "      <td>8505.285285</td>\n",
       "      <td>14532.869080</td>\n",
       "      <td>1629.83350</td>\n",
       "    </tr>\n",
       "    <tr>\n",
       "      <th>1336</th>\n",
       "      <td>21</td>\n",
       "      <td>12429.505375</td>\n",
       "      <td>25.800</td>\n",
       "      <td>12324.348977</td>\n",
       "      <td>8505.285285</td>\n",
       "      <td>12340.480789</td>\n",
       "      <td>2007.94500</td>\n",
       "    </tr>\n",
       "    <tr>\n",
       "      <th>1337</th>\n",
       "      <td>61</td>\n",
       "      <td>12429.505375</td>\n",
       "      <td>29.070</td>\n",
       "      <td>12324.348977</td>\n",
       "      <td>31846.616835</td>\n",
       "      <td>12507.216229</td>\n",
       "      <td>29141.36030</td>\n",
       "    </tr>\n",
       "  </tbody>\n",
       "</table>\n",
       "<p>1281 rows × 7 columns</p>\n",
       "</div>"
      ],
      "text/plain": [
       "      age           sex     bmi      children        smoker        region  \\\n",
       "0      19  12429.505375  27.900  12324.348977  31846.616835  12340.480789   \n",
       "1      18  14075.813874  33.770  12904.081811   8505.285285  14532.869080   \n",
       "2      28  14075.813874  33.000  15540.082132   8505.285285  14532.869080   \n",
       "3      33  14075.813874  22.705  12324.348977   8505.285285  12507.216229   \n",
       "4      32  14075.813874  28.880  12324.348977   8505.285285  12507.216229   \n",
       "...   ...           ...     ...           ...           ...           ...   \n",
       "1333   50  14075.813874  30.970  15540.082132   8505.285285  12507.216229   \n",
       "1334   18  12429.505375  31.920  12324.348977   8505.285285  13575.479882   \n",
       "1335   18  12429.505375  36.850  12324.348977   8505.285285  14532.869080   \n",
       "1336   21  12429.505375  25.800  12324.348977   8505.285285  12340.480789   \n",
       "1337   61  12429.505375  29.070  12324.348977  31846.616835  12507.216229   \n",
       "\n",
       "          charges  \n",
       "0     16884.92400  \n",
       "1      1725.55230  \n",
       "2      4449.46200  \n",
       "3     21984.47061  \n",
       "4      3866.85520  \n",
       "...           ...  \n",
       "1333  10600.54830  \n",
       "1334   2205.98080  \n",
       "1335   1629.83350  \n",
       "1336   2007.94500  \n",
       "1337  29141.36030  \n",
       "\n",
       "[1281 rows x 7 columns]"
      ]
     },
     "execution_count": 28,
     "metadata": {},
     "output_type": "execute_result"
    }
   ],
   "source": [
    "insurance_no_outliers"
   ]
  },
  {
   "cell_type": "markdown",
   "id": "3f2832bd",
   "metadata": {},
   "source": [
    "### The data has been target encoded using the mean"
   ]
  },
  {
   "cell_type": "markdown",
   "id": "bbeac05e",
   "metadata": {},
   "source": [
    "# 1.10 Seperating feature and target columns and narrowing the data to 5 features"
   ]
  },
  {
   "cell_type": "code",
   "execution_count": 29,
   "id": "4c944609",
   "metadata": {},
   "outputs": [],
   "source": [
    "#features\n",
    "X = insurance_no_outliers.drop('charges', axis = 1)\n",
    "#target\n",
    "y = insurance_no_outliers['charges']"
   ]
  },
  {
   "cell_type": "code",
   "execution_count": 30,
   "id": "49a394b9",
   "metadata": {},
   "outputs": [
    {
     "data": {
      "text/html": [
       "<div>\n",
       "<style scoped>\n",
       "    .dataframe tbody tr th:only-of-type {\n",
       "        vertical-align: middle;\n",
       "    }\n",
       "\n",
       "    .dataframe tbody tr th {\n",
       "        vertical-align: top;\n",
       "    }\n",
       "\n",
       "    .dataframe thead th {\n",
       "        text-align: right;\n",
       "    }\n",
       "</style>\n",
       "<table border=\"1\" class=\"dataframe\">\n",
       "  <thead>\n",
       "    <tr style=\"text-align: right;\">\n",
       "      <th></th>\n",
       "      <th>age</th>\n",
       "      <th>sex</th>\n",
       "      <th>bmi</th>\n",
       "      <th>children</th>\n",
       "      <th>smoker</th>\n",
       "      <th>region</th>\n",
       "    </tr>\n",
       "  </thead>\n",
       "  <tbody>\n",
       "    <tr>\n",
       "      <th>0</th>\n",
       "      <td>19</td>\n",
       "      <td>12429.505375</td>\n",
       "      <td>27.900</td>\n",
       "      <td>12324.348977</td>\n",
       "      <td>31846.616835</td>\n",
       "      <td>12340.480789</td>\n",
       "    </tr>\n",
       "    <tr>\n",
       "      <th>1</th>\n",
       "      <td>18</td>\n",
       "      <td>14075.813874</td>\n",
       "      <td>33.770</td>\n",
       "      <td>12904.081811</td>\n",
       "      <td>8505.285285</td>\n",
       "      <td>14532.869080</td>\n",
       "    </tr>\n",
       "    <tr>\n",
       "      <th>2</th>\n",
       "      <td>28</td>\n",
       "      <td>14075.813874</td>\n",
       "      <td>33.000</td>\n",
       "      <td>15540.082132</td>\n",
       "      <td>8505.285285</td>\n",
       "      <td>14532.869080</td>\n",
       "    </tr>\n",
       "    <tr>\n",
       "      <th>3</th>\n",
       "      <td>33</td>\n",
       "      <td>14075.813874</td>\n",
       "      <td>22.705</td>\n",
       "      <td>12324.348977</td>\n",
       "      <td>8505.285285</td>\n",
       "      <td>12507.216229</td>\n",
       "    </tr>\n",
       "    <tr>\n",
       "      <th>4</th>\n",
       "      <td>32</td>\n",
       "      <td>14075.813874</td>\n",
       "      <td>28.880</td>\n",
       "      <td>12324.348977</td>\n",
       "      <td>8505.285285</td>\n",
       "      <td>12507.216229</td>\n",
       "    </tr>\n",
       "  </tbody>\n",
       "</table>\n",
       "</div>"
      ],
      "text/plain": [
       "   age           sex     bmi      children        smoker        region\n",
       "0   19  12429.505375  27.900  12324.348977  31846.616835  12340.480789\n",
       "1   18  14075.813874  33.770  12904.081811   8505.285285  14532.869080\n",
       "2   28  14075.813874  33.000  15540.082132   8505.285285  14532.869080\n",
       "3   33  14075.813874  22.705  12324.348977   8505.285285  12507.216229\n",
       "4   32  14075.813874  28.880  12324.348977   8505.285285  12507.216229"
      ]
     },
     "execution_count": 30,
     "metadata": {},
     "output_type": "execute_result"
    }
   ],
   "source": [
    "X.head()"
   ]
  },
  {
   "cell_type": "code",
   "execution_count": 31,
   "id": "65ebe100",
   "metadata": {},
   "outputs": [
    {
     "data": {
      "text/plain": [
       "0    16884.92400\n",
       "1     1725.55230\n",
       "2     4449.46200\n",
       "3    21984.47061\n",
       "4     3866.85520\n",
       "Name: charges, dtype: float64"
      ]
     },
     "execution_count": 31,
     "metadata": {},
     "output_type": "execute_result"
    }
   ],
   "source": [
    "y.head()"
   ]
  },
  {
   "cell_type": "code",
   "execution_count": 32,
   "id": "56206e76",
   "metadata": {},
   "outputs": [
    {
     "name": "stdout",
     "output_type": "stream",
     "text": [
      "Index(['age', 'bmi', 'children', 'smoker', 'region'], dtype='object')\n"
     ]
    }
   ],
   "source": [
    "from sklearn.model_selection import train_test_split\n",
    "from sklearn.linear_model import LinearRegression\n",
    "from sklearn.feature_selection import RFE\n",
    "from sklearn.linear_model import RidgeCV, LassoCV, Ridge, Lasso\n",
    "\n",
    "model = LinearRegression()\n",
    "#Initializing RFE model\n",
    "rfe = RFE(model,n_features_to_select=5 )\n",
    "#Transforming data using RFE\n",
    "X_rfe = rfe.fit_transform(X,y)  \n",
    "#Fitting the data to model\n",
    "model.fit(X_rfe,y)\n",
    "cols = list(X.columns)\n",
    "temp = pd.Series(rfe.support_,index = cols)\n",
    "selected_features_rfe = temp[temp==True].index\n",
    "print(selected_features_rfe)"
   ]
  },
  {
   "cell_type": "markdown",
   "id": "d2f52f97",
   "metadata": {},
   "source": [
    "### The sex column has been dropped "
   ]
  },
  {
   "cell_type": "markdown",
   "id": "b0d384ab",
   "metadata": {},
   "source": [
    "# 1.11 Converting target labels to log values"
   ]
  },
  {
   "cell_type": "code",
   "execution_count": 33,
   "id": "13661a44",
   "metadata": {},
   "outputs": [
    {
     "data": {
      "text/plain": [
       "0        9.734236\n",
       "1        7.453882\n",
       "2        8.400763\n",
       "3        9.998137\n",
       "4        8.260455\n",
       "          ...    \n",
       "1333     9.268755\n",
       "1334     7.699381\n",
       "1335     7.396847\n",
       "1336     7.605365\n",
       "1337    10.279948\n",
       "Name: charges, Length: 1281, dtype: float64"
      ]
     },
     "execution_count": 33,
     "metadata": {},
     "output_type": "execute_result"
    }
   ],
   "source": [
    "y=(y+1).transform(np.log)\n",
    "y"
   ]
  },
  {
   "cell_type": "markdown",
   "id": "9fda7f04",
   "metadata": {},
   "source": [
    "### It is important to convert the target column to their log values because this will narrow down the values   therefore reduce outliers"
   ]
  },
  {
   "cell_type": "markdown",
   "id": "7cc7749e",
   "metadata": {},
   "source": [
    "# 1.12 Normalizing and splitting the data to train and test sets"
   ]
  },
  {
   "cell_type": "code",
   "execution_count": 34,
   "id": "afc926c1",
   "metadata": {},
   "outputs": [],
   "source": [
    "#normalizing the data using the MinMaxScaler\n",
    "minmax_scaler = MinMaxScaler()\n",
    "for i in X.columns:\n",
    "    X[i]=minmax_scaler.fit_transform(X[[i]])\n"
   ]
  },
  {
   "cell_type": "code",
   "execution_count": 35,
   "id": "3d8ca4fe",
   "metadata": {},
   "outputs": [
    {
     "data": {
      "text/html": [
       "<div>\n",
       "<style scoped>\n",
       "    .dataframe tbody tr th:only-of-type {\n",
       "        vertical-align: middle;\n",
       "    }\n",
       "\n",
       "    .dataframe tbody tr th {\n",
       "        vertical-align: top;\n",
       "    }\n",
       "\n",
       "    .dataframe thead th {\n",
       "        text-align: right;\n",
       "    }\n",
       "</style>\n",
       "<table border=\"1\" class=\"dataframe\">\n",
       "  <thead>\n",
       "    <tr style=\"text-align: right;\">\n",
       "      <th></th>\n",
       "      <th>age</th>\n",
       "      <th>sex</th>\n",
       "      <th>bmi</th>\n",
       "      <th>children</th>\n",
       "      <th>smoker</th>\n",
       "      <th>region</th>\n",
       "    </tr>\n",
       "  </thead>\n",
       "  <tbody>\n",
       "    <tr>\n",
       "      <th>0</th>\n",
       "      <td>0.021739</td>\n",
       "      <td>0.0</td>\n",
       "      <td>0.387629</td>\n",
       "      <td>0.19775</td>\n",
       "      <td>1.0</td>\n",
       "      <td>0.000000</td>\n",
       "    </tr>\n",
       "    <tr>\n",
       "      <th>1</th>\n",
       "      <td>0.000000</td>\n",
       "      <td>1.0</td>\n",
       "      <td>0.629691</td>\n",
       "      <td>0.34238</td>\n",
       "      <td>0.0</td>\n",
       "      <td>1.000000</td>\n",
       "    </tr>\n",
       "    <tr>\n",
       "      <th>2</th>\n",
       "      <td>0.217391</td>\n",
       "      <td>1.0</td>\n",
       "      <td>0.597938</td>\n",
       "      <td>1.00000</td>\n",
       "      <td>0.0</td>\n",
       "      <td>1.000000</td>\n",
       "    </tr>\n",
       "    <tr>\n",
       "      <th>3</th>\n",
       "      <td>0.326087</td>\n",
       "      <td>1.0</td>\n",
       "      <td>0.173402</td>\n",
       "      <td>0.19775</td>\n",
       "      <td>0.0</td>\n",
       "      <td>0.076052</td>\n",
       "    </tr>\n",
       "    <tr>\n",
       "      <th>4</th>\n",
       "      <td>0.304348</td>\n",
       "      <td>1.0</td>\n",
       "      <td>0.428041</td>\n",
       "      <td>0.19775</td>\n",
       "      <td>0.0</td>\n",
       "      <td>0.076052</td>\n",
       "    </tr>\n",
       "  </tbody>\n",
       "</table>\n",
       "</div>"
      ],
      "text/plain": [
       "        age  sex       bmi  children  smoker    region\n",
       "0  0.021739  0.0  0.387629   0.19775     1.0  0.000000\n",
       "1  0.000000  1.0  0.629691   0.34238     0.0  1.000000\n",
       "2  0.217391  1.0  0.597938   1.00000     0.0  1.000000\n",
       "3  0.326087  1.0  0.173402   0.19775     0.0  0.076052\n",
       "4  0.304348  1.0  0.428041   0.19775     0.0  0.076052"
      ]
     },
     "execution_count": 35,
     "metadata": {},
     "output_type": "execute_result"
    }
   ],
   "source": [
    "X.head()"
   ]
  },
  {
   "cell_type": "code",
   "execution_count": 36,
   "id": "a27df48b",
   "metadata": {},
   "outputs": [
    {
     "data": {
      "text/plain": [
       "((960, 5), (321, 5), (960,), (321,))"
      ]
     },
     "execution_count": 36,
     "metadata": {},
     "output_type": "execute_result"
    }
   ],
   "source": [
    "#splitting the data to train and test sets\n",
    "X_train, X_test, y_train, y_test = train_test_split(X_rfe, y,random_state=0)\n",
    "\n",
    "X_train.shape, X_test.shape, y_train.shape, y_test.shape"
   ]
  },
  {
   "cell_type": "markdown",
   "id": "656ee12e",
   "metadata": {},
   "source": [
    "# 1.13 Using at least 4 different regression based machine learning methods and use the training and testing cross accuracy and divergence to identify the best model."
   ]
  },
  {
   "cell_type": "code",
   "execution_count": 37,
   "id": "abce8c29",
   "metadata": {},
   "outputs": [],
   "source": [
    "#importing the models\n",
    "from sklearn.ensemble import RandomForestRegressor,BaggingRegressor\n",
    "from sklearn.tree import DecisionTreeRegressor\n",
    "from sklearn.linear_model import ElasticNet\n",
    "\n",
    "random_forest= RandomForestRegressor(random_state=0)\n",
    "decision_tree=DecisionTreeRegressor(random_state=0)\n",
    "bagging=BaggingRegressor(random_state=0)\n",
    "elastic_net=ElasticNet(random_state=0)\n",
    "\n",
    "#placing our models in dict \n",
    "models={' RandomForestRegressor':random_forest,\n",
    "        'DecisionTreeRegressor':decision_tree,\n",
    "        'BaggingRegressor':bagging,\n",
    "        'ElasticNet':elastic_net}"
   ]
  },
  {
   "cell_type": "code",
   "execution_count": 38,
   "id": "d0b39e88",
   "metadata": {},
   "outputs": [
    {
     "name": "stdout",
     "output_type": "stream",
     "text": [
      "RandomForestRegressor(random_state=0)\n",
      "validation mean score:0.7906352610451785\n",
      "validation std:0.059535162509695386\n",
      "/n\n",
      "DecisionTreeRegressor(random_state=0)\n",
      "validation mean score:0.6432276452094253\n",
      "validation std:0.09284201476486317\n",
      "/n\n",
      "BaggingRegressor(random_state=0)\n",
      "validation mean score:0.7740116294821003\n",
      "validation std:0.05014535072623682\n",
      "/n\n",
      "ElasticNet(random_state=0)\n",
      "validation mean score:-0.0012465696197756504\n",
      "validation std:0.00123102259470417\n",
      "/n\n"
     ]
    }
   ],
   "source": [
    "#function to help in cross validation\n",
    "from sklearn.model_selection import cross_val_score\n",
    "for name,model in models.items():\n",
    "    scores=cross_val_score(model,X,y,cv=5)\n",
    "    print(model)\n",
    "    print(f'validation mean score:{np.mean(scores)}')\n",
    "    print(f'validation std:{np.std(scores)}')\n",
    "    print('/n')"
   ]
  },
  {
   "cell_type": "markdown",
   "id": "69891ddb",
   "metadata": {},
   "source": [
    "### We'll use the random forest regressor as it has the highest accuracy\n"
   ]
  },
  {
   "cell_type": "code",
   "execution_count": 39,
   "id": "ec628a7d",
   "metadata": {},
   "outputs": [
    {
     "data": {
      "text/plain": [
       "RandomForestRegressor(random_state=0)"
      ]
     },
     "execution_count": 39,
     "metadata": {},
     "output_type": "execute_result"
    }
   ],
   "source": [
    "random_forest.fit(X_train,y_train)"
   ]
  },
  {
   "cell_type": "markdown",
   "id": "81d57812",
   "metadata": {},
   "source": [
    "# After identifying the best model, train it with the training data again. Using at least 3 model evaluation metrics in regression, evaluate the models training and testing score"
   ]
  },
  {
   "cell_type": "code",
   "execution_count": 40,
   "id": "4c9d3cfd",
   "metadata": {},
   "outputs": [],
   "source": [
    "#Evaluation\n",
    "from sklearn.metrics import mean_squared_error,mean_absolute_error,r2_score\n",
    "def model_evaluation(model,X,y):\n",
    "    y_predict=np.exp(model.predict(X))\n",
    "    y=np.exp(y)\n",
    "    print(f'Squared error:{mean_squared_error(y,y_predict)}')\n",
    "    print(f'absolute error:{mean_absolute_error(y,y_predict)}')\n",
    "    print(f'R2_score:{r2_score(y,y_predict)}')\n",
    "          \n"
   ]
  },
  {
   "cell_type": "code",
   "execution_count": 41,
   "id": "2c0d5d58",
   "metadata": {},
   "outputs": [
    {
     "name": "stdout",
     "output_type": "stream",
     "text": [
      "Squared error:5670025.422771975\n",
      "absolute error:1022.572210519004\n",
      "R2_score:0.9613455840009262\n"
     ]
    }
   ],
   "source": [
    "#calling the fxn\n",
    "model_evaluation(random_forest,X_train,y_train)"
   ]
  },
  {
   "cell_type": "code",
   "execution_count": 42,
   "id": "8c5d26e4",
   "metadata": {},
   "outputs": [
    {
     "name": "stdout",
     "output_type": "stream",
     "text": [
      "Squared error:22592892.345032178\n",
      "absolute error:2350.4410323484726\n",
      "R2_score:0.8304967877217132\n"
     ]
    }
   ],
   "source": [
    "model_evaluation(random_forest,X_test,y_test)"
   ]
  },
  {
   "cell_type": "code",
   "execution_count": null,
   "id": "29f58c3f",
   "metadata": {},
   "outputs": [],
   "source": []
  }
 ],
 "metadata": {
  "kernelspec": {
   "display_name": "Python 3 (ipykernel)",
   "language": "python",
   "name": "python3"
  },
  "language_info": {
   "codemirror_mode": {
    "name": "ipython",
    "version": 3
   },
   "file_extension": ".py",
   "mimetype": "text/x-python",
   "name": "python",
   "nbconvert_exporter": "python",
   "pygments_lexer": "ipython3",
   "version": "3.9.12"
  }
 },
 "nbformat": 4,
 "nbformat_minor": 5
}
